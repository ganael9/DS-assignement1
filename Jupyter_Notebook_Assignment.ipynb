{
  "metadata": {
    "language_info": {
      "codemirror_mode": {
        "name": "python",
        "version": 3
      },
      "file_extension": ".py",
      "mimetype": "text/x-python",
      "name": "python",
      "nbconvert_exporter": "python",
      "pygments_lexer": "ipython3",
      "version": "3.8"
    },
    "kernelspec": {
      "name": "python",
      "display_name": "Pyolite",
      "language": "python"
    }
  },
  "nbformat_minor": 4,
  "nbformat": 4,
  "cells": [
    {
      "cell_type": "markdown",
      "source": "<center>\n    <h1>My Jupyter Notebook on IBM Watson Studio</h1>\n</center>",
      "metadata": {}
    },
    {
      "cell_type": "markdown",
      "source": "\n<p><b>Ganaël</b></p>\nData Scientist\n",
      "metadata": {}
    },
    {
      "cell_type": "markdown",
      "source": "<i>I am interseted in data science because it will open me doors to push in building Machine Learning models</i>",
      "metadata": {}
    },
    {
      "cell_type": "markdown",
      "source": "<h3>This code takes the temperature in celsius and converts in Fahrenheit</h3>",
      "metadata": {}
    },
    {
      "cell_type": "code",
      "source": "# C variable is the temperature in celsius \n# The print out is the convestion in fahrenheit\n\n\nC=0\nF = C*1.8 + 32\nprint(F)",
      "metadata": {
        "trusted": true
      },
      "execution_count": 17,
      "outputs": [
        {
          "name": "stdout",
          "text": "32.0\n",
          "output_type": "stream"
        }
      ]
    },
    {
      "cell_type": "markdown",
      "source": "Table\n\n<table>\n  <tr>\n    <th>First Name</th>\n    <th>Last Name</th>\n    <th>Country</th>\n    <th>Genre</th>\n    <th>Age</th>\n    <th>Profession</th>\n  </tr>\n  <tr>\n    <td>Igor</td>\n    <td>Bogdan</td>\n    <td>Belarus</td>\n    <td>Male</td>\n    <td>30</td>\n    <td>Data Analyst</td>\n  </tr>\n  <tr>\n    <td>Ali</td>\n    <td>Hakimi</td>\n    <td>Morocco</td>\n    <td>Male</td>\n    <td>51</td>\n    <td>Engineer</td>\n  </tr>\n   <tr>\n    <td>Michelle</td>\n    <td>Daouda</td>\n    <td>Benin</td>\n    <td>Female</td>\n    <td>28</td>\n    <td>Actuary</td>\n   </tr>\n</table>\n\n\n\nHyperlinks\n\n<a href=\"https://www.youtube.com/\">Visit YouTube</a>\n\n\n\nBulleted list of groceries\n\n<ul>\n  <li>Coffee</li>\n  <li>Tea</li>\n  <li>Milk</li>\n  <li>Bread</li>\n  <li>Fruits</li>\n  <li>Cheese</li>\n</ul>",
      "metadata": {}
    },
    {
      "cell_type": "code",
      "source": "",
      "metadata": {},
      "execution_count": null,
      "outputs": []
    }
  ]
}